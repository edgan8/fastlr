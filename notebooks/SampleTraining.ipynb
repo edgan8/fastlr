{
 "cells": [
  {
   "cell_type": "code",
   "execution_count": 1,
   "metadata": {},
   "outputs": [],
   "source": [
    "%matplotlib inline\n",
    "import matplotlib.pyplot as plt\n",
    "import pandas as pd\n",
    "import sklearn\n",
    "import sklearn.linear_model\n",
    "import sklearn.metrics\n",
    "import sklearn.model_selection\n",
    "import scipy.special\n",
    "import numpy as np\n",
    "import time\n",
    "import math\n",
    "import os\n",
    "# from tqdm import tqdm\n",
    "from tqdm.notebook import tqdm\n",
    "import importlib"
   ]
  },
  {
   "cell_type": "code",
   "execution_count": 3,
   "metadata": {},
   "outputs": [],
   "source": [
    "os.chdir(\"/Users/edgan/Documents/projects/fastlr\")"
   ]
  },
  {
   "cell_type": "code",
   "execution_count": 4,
   "metadata": {},
   "outputs": [],
   "source": [
    "df = pd.read_csv(\n",
    "    \"~/Documents/datasets/avazu/train.csv\",\n",
    "    nrows=1_000_000\n",
    ")"
   ]
  },
  {
   "cell_type": "code",
   "execution_count": 5,
   "metadata": {},
   "outputs": [],
   "source": [
    "target = \"click\"\n",
    "CAT_COLS = [\n",
    "    \"C1\", \"banner_pos\", \n",
    "    \"site_category\", \"app_category\", \n",
    "    \"device_type\", \"device_conn_type\",\n",
    "#     \"C14\"\n",
    "]\n",
    "df_enc = pd.get_dummies(df[CAT_COLS], columns=CAT_COLS)\n",
    "df_enc[\"c\"] = 1\n",
    "# df_final = pd.concat([\n",
    "#     df[target], df_enc\n",
    "# ], axis=1)"
   ]
  },
  {
   "cell_type": "code",
   "execution_count": 6,
   "metadata": {},
   "outputs": [],
   "source": [
    "Xt, Xv, yt, yv = sklearn.model_selection.train_test_split(\n",
    "    df_enc.values, df[target].values,\n",
    "    random_state=0\n",
    ")"
   ]
  },
  {
   "cell_type": "code",
   "execution_count": 7,
   "metadata": {},
   "outputs": [
    {
     "data": {
      "application/vnd.jupyter.widget-view+json": {
       "model_id": "c00f7c2ecbda40218741a635ce890dff",
       "version_major": 2,
       "version_minor": 0
      },
      "text/plain": [
       "HBox(children=(FloatProgress(value=0.0, max=10.0), HTML(value='')))"
      ]
     },
     "metadata": {},
     "output_type": "display_data"
    },
    {
     "name": "stdout",
     "output_type": "stream",
     "text": [
      "\n"
     ]
    }
   ],
   "source": [
    "n = len(Xt)\n",
    "sizes = np.geomspace(100, n, 10).astype(int)\n",
    "results = []\n",
    "r = np.random.RandomState(0)\n",
    "for size in tqdm(sizes):\n",
    "    n_trials = 2\n",
    "    for trial_idx in range(n_trials):\n",
    "        s_idxs = r.choice(n, size=size, replace=False)\n",
    "        Xs = Xt[s_idxs]\n",
    "        ys = yt[s_idxs]\n",
    "        sklm = sklearn.linear_model.LogisticRegression(\n",
    "            max_iter=100,\n",
    "            C=1,\n",
    "            penalty=\"l2\",\n",
    "            solver=\"liblinear\"\n",
    "        )\n",
    "        sklm.fit(Xs, ys)\n",
    "        yh = sklm.predict_proba(Xt)\n",
    "        score = sklearn.metrics.log_loss(yt, yh)\n",
    "        results.append({\n",
    "            \"size\": size,\n",
    "            \"trial_idx\": trial_idx,\n",
    "            \"score\": score,\n",
    "        })\n",
    "res_df = pd.DataFrame(results)"
   ]
  },
  {
   "cell_type": "code",
   "execution_count": 8,
   "metadata": {},
   "outputs": [
    {
     "data": {
      "text/html": [
       "<div>\n",
       "<style scoped>\n",
       "    .dataframe tbody tr th:only-of-type {\n",
       "        vertical-align: middle;\n",
       "    }\n",
       "\n",
       "    .dataframe tbody tr th {\n",
       "        vertical-align: top;\n",
       "    }\n",
       "\n",
       "    .dataframe thead tr th {\n",
       "        text-align: left;\n",
       "    }\n",
       "\n",
       "    .dataframe thead tr:last-of-type th {\n",
       "        text-align: right;\n",
       "    }\n",
       "</style>\n",
       "<table border=\"1\" class=\"dataframe\">\n",
       "  <thead>\n",
       "    <tr>\n",
       "      <th></th>\n",
       "      <th>score</th>\n",
       "    </tr>\n",
       "    <tr>\n",
       "      <th></th>\n",
       "      <th>mean</th>\n",
       "    </tr>\n",
       "    <tr>\n",
       "      <th>size</th>\n",
       "      <th></th>\n",
       "    </tr>\n",
       "  </thead>\n",
       "  <tbody>\n",
       "    <tr>\n",
       "      <th>100</th>\n",
       "      <td>0.495177</td>\n",
       "    </tr>\n",
       "    <tr>\n",
       "      <th>269</th>\n",
       "      <td>0.442556</td>\n",
       "    </tr>\n",
       "    <tr>\n",
       "      <th>726</th>\n",
       "      <td>0.432516</td>\n",
       "    </tr>\n",
       "    <tr>\n",
       "      <th>1957</th>\n",
       "      <td>0.428537</td>\n",
       "    </tr>\n",
       "    <tr>\n",
       "      <th>5275</th>\n",
       "      <td>0.427431</td>\n",
       "    </tr>\n",
       "    <tr>\n",
       "      <th>14217</th>\n",
       "      <td>0.426363</td>\n",
       "    </tr>\n",
       "    <tr>\n",
       "      <th>38315</th>\n",
       "      <td>0.425688</td>\n",
       "    </tr>\n",
       "    <tr>\n",
       "      <th>103261</th>\n",
       "      <td>0.425426</td>\n",
       "    </tr>\n",
       "    <tr>\n",
       "      <th>278290</th>\n",
       "      <td>0.425315</td>\n",
       "    </tr>\n",
       "    <tr>\n",
       "      <th>750000</th>\n",
       "      <td>0.425268</td>\n",
       "    </tr>\n",
       "  </tbody>\n",
       "</table>\n",
       "</div>"
      ],
      "text/plain": [
       "           score\n",
       "            mean\n",
       "size            \n",
       "100     0.495177\n",
       "269     0.442556\n",
       "726     0.432516\n",
       "1957    0.428537\n",
       "5275    0.427431\n",
       "14217   0.426363\n",
       "38315   0.425688\n",
       "103261  0.425426\n",
       "278290  0.425315\n",
       "750000  0.425268"
      ]
     },
     "execution_count": 8,
     "metadata": {},
     "output_type": "execute_result"
    }
   ],
   "source": [
    "res_df.groupby([\"size\"]).aggregate({\"score\": [\"mean\"]})"
   ]
  },
  {
   "cell_type": "code",
   "execution_count": 31,
   "metadata": {},
   "outputs": [],
   "source": [
    "sample_size = 100\n",
    "true_mask = yt==1\n",
    "n_true = np.sum(true_mask)\n",
    "r = np.random.RandomState(0)\n",
    "s1_idxs = r.choice(np.argwhere(true_mask).ravel(), size=sample_size//2, replace=False)\n",
    "s2_idxs = r.choice(np.argwhere(~true_mask).ravel(), size=sample_size//2, replace=False)\n",
    "s_idxs = np.concatenate([s1_idxs, s2_idxs])"
   ]
  },
  {
   "cell_type": "code",
   "execution_count": 33,
   "metadata": {},
   "outputs": [
    {
     "name": "stdout",
     "output_type": "stream",
     "text": [
      "Score: 0.6873454103226276\n"
     ]
    }
   ],
   "source": [
    "Xs = Xt[s_idxs]\n",
    "ys = yt[s_idxs]\n",
    "sklm = sklearn.linear_model.LogisticRegression(\n",
    "    max_iter=100,\n",
    "    C=1,\n",
    "    penalty=\"l2\",\n",
    "    solver=\"liblinear\",\n",
    "    class_weight={0:(n-n_true)/len(s2_idxs), 1:(n_true)/len(s1_idxs)}\n",
    ")\n",
    "sklm.fit(Xs, ys)\n",
    "yh = sklm.predict_proba(Xt)\n",
    "score = sklearn.metrics.log_loss(yt, yh)\n",
    "print(\"Score: {}\".format(score))"
   ]
  },
  {
   "cell_type": "code",
   "execution_count": null,
   "metadata": {},
   "outputs": [],
   "source": []
  }
 ],
 "metadata": {
  "kernelspec": {
   "display_name": "Python 3",
   "language": "python",
   "name": "python3"
  },
  "language_info": {
   "codemirror_mode": {
    "name": "ipython",
    "version": 3
   },
   "file_extension": ".py",
   "mimetype": "text/x-python",
   "name": "python",
   "nbconvert_exporter": "python",
   "pygments_lexer": "ipython3",
   "version": "3.7.4"
  }
 },
 "nbformat": 4,
 "nbformat_minor": 4
}
